{
 "cells": [
  {
   "cell_type": "code",
   "execution_count": null,
   "id": "31b6aa41",
   "metadata": {
    "id": "31b6aa41"
   },
   "outputs": [],
   "source": [
    "# Mohmmed AL-zhrani "
   ]
  },
  {
   "cell_type": "code",
   "execution_count": null,
   "id": "s92S4amch5nW",
   "metadata": {
    "id": "s92S4amch5nW"
   },
   "outputs": [],
   "source": [
    "# 2041606"
   ]
  },
  {
   "cell_type": "code",
   "execution_count": null,
   "id": "a1fffacc",
   "metadata": {
    "id": "a1fffacc",
    "outputId": "07cc66a9-5aeb-4a2d-89a1-b580edfcf452"
   },
   "outputs": [],
   "source": []
  },
  {
   "cell_type": "code",
   "execution_count": null,
   "id": "acc4ca8a",
   "metadata": {
    "id": "acc4ca8a",
    "outputId": "c096b720-0bcb-43f9-b657-e58422db08e7"
   },
   "outputs": [
    {
     "name": "stdout",
     "output_type": "stream",
     "text": [
      "Requirement already satisfied: requests-oauthlib>=0.7.0 in c:\\users\\osama\\anaconda3\\lib\\site-packages (from google-auth-oauthlib<0.5,>=0.4.1->tensorboard~=2.6->tensorflow) (1.3.0)\n",
      "Requirement already satisfied: importlib-metadata>='4.4' in c:\\users\\osama\\anaconda3\\lib\\site-packages (from markdown>=2.6.8->tensorboard~=2.6->tensorflow) (3.10.0)\n",
      "Requirement already satisfied: zipp>=0.5 in c:\\users\\osama\\anaconda3\\lib\\site-packages (from importlib-metadata>='4.4'->markdown>=2.6.8->tensorboard~=2.6->tensorflow) (3.4.1)\n",
      "Requirement already satisfied: pyasn1<0.5.0,>=0.4.6 in c:\\users\\osama\\anaconda3\\lib\\site-packages (from pyasn1-modules>=0.2.1->google-auth<3,>=1.6.3->tensorboard~=2.6->tensorflow) (0.4.8)\n",
      "Requirement already satisfied: chardet<5,>=3.0.2 in c:\\users\\osama\\anaconda3\\lib\\site-packages (from requests<3,>=2.21.0->tensorboard~=2.6->tensorflow) (4.0.0)\n",
      "Requirement already satisfied: idna<3,>=2.5 in c:\\users\\osama\\anaconda3\\lib\\site-packages (from requests<3,>=2.21.0->tensorboard~=2.6->tensorflow) (2.10)\n",
      "Requirement already satisfied: certifi>=2017.4.17 in c:\\users\\osama\\anaconda3\\lib\\site-packages (from requests<3,>=2.21.0->tensorboard~=2.6->tensorflow) (2020.12.5)\n",
      "Requirement already satisfied: urllib3<1.27,>=1.21.1 in c:\\users\\osama\\anaconda3\\lib\\site-packages (from requests<3,>=2.21.0->tensorboard~=2.6->tensorflow) (1.26.4)\n",
      "Requirement already satisfied: oauthlib>=3.0.0 in c:\\users\\osama\\anaconda3\\lib\\site-packages (from requests-oauthlib>=0.7.0->google-auth-oauthlib<0.5,>=0.4.1->tensorboard~=2.6->tensorflow) (3.1.1)\n"
     ]
    }
   ],
   "source": [
    "# Importing the libraries\n",
    "import numpy as np\n",
    "import tensorflow as tf\n",
    "from tensorflow import keras"
   ]
  },
  {
   "cell_type": "code",
   "execution_count": null,
   "id": "aee46355",
   "metadata": {
    "id": "aee46355",
    "outputId": "70833a5c-f7cb-4039-e039-19d548491e60"
   },
   "outputs": [
    {
     "data": {
      "text/html": [
       "<div>\n",
       "<style scoped>\n",
       "    .dataframe tbody tr th:only-of-type {\n",
       "        vertical-align: middle;\n",
       "    }\n",
       "\n",
       "    .dataframe tbody tr th {\n",
       "        vertical-align: top;\n",
       "    }\n",
       "\n",
       "    .dataframe thead th {\n",
       "        text-align: right;\n",
       "    }\n",
       "</style>\n",
       "<table border=\"1\" class=\"dataframe\">\n",
       "  <thead>\n",
       "    <tr style=\"text-align: right;\">\n",
       "      <th></th>\n",
       "      <th>battery_power</th>\n",
       "      <th>blue</th>\n",
       "      <th>clock_speed</th>\n",
       "      <th>dual_sim</th>\n",
       "      <th>fc</th>\n",
       "      <th>four_g</th>\n",
       "      <th>int_memory</th>\n",
       "      <th>m_dep</th>\n",
       "      <th>mobile_wt</th>\n",
       "      <th>n_cores</th>\n",
       "      <th>...</th>\n",
       "      <th>px_height</th>\n",
       "      <th>px_width</th>\n",
       "      <th>ram</th>\n",
       "      <th>sc_h</th>\n",
       "      <th>sc_w</th>\n",
       "      <th>talk_time</th>\n",
       "      <th>three_g</th>\n",
       "      <th>touch_screen</th>\n",
       "      <th>wifi</th>\n",
       "      <th>price_range</th>\n",
       "    </tr>\n",
       "  </thead>\n",
       "  <tbody>\n",
       "    <tr>\n",
       "      <th>0</th>\n",
       "      <td>842</td>\n",
       "      <td>0</td>\n",
       "      <td>2.2</td>\n",
       "      <td>0</td>\n",
       "      <td>1</td>\n",
       "      <td>0</td>\n",
       "      <td>7</td>\n",
       "      <td>0.6</td>\n",
       "      <td>188</td>\n",
       "      <td>2</td>\n",
       "      <td>...</td>\n",
       "      <td>20</td>\n",
       "      <td>756</td>\n",
       "      <td>2549</td>\n",
       "      <td>9</td>\n",
       "      <td>7</td>\n",
       "      <td>19</td>\n",
       "      <td>0</td>\n",
       "      <td>0</td>\n",
       "      <td>1</td>\n",
       "      <td>1</td>\n",
       "    </tr>\n",
       "    <tr>\n",
       "      <th>1</th>\n",
       "      <td>1021</td>\n",
       "      <td>1</td>\n",
       "      <td>0.5</td>\n",
       "      <td>1</td>\n",
       "      <td>0</td>\n",
       "      <td>1</td>\n",
       "      <td>53</td>\n",
       "      <td>0.7</td>\n",
       "      <td>136</td>\n",
       "      <td>3</td>\n",
       "      <td>...</td>\n",
       "      <td>905</td>\n",
       "      <td>1988</td>\n",
       "      <td>2631</td>\n",
       "      <td>17</td>\n",
       "      <td>3</td>\n",
       "      <td>7</td>\n",
       "      <td>1</td>\n",
       "      <td>1</td>\n",
       "      <td>0</td>\n",
       "      <td>2</td>\n",
       "    </tr>\n",
       "    <tr>\n",
       "      <th>2</th>\n",
       "      <td>563</td>\n",
       "      <td>1</td>\n",
       "      <td>0.5</td>\n",
       "      <td>1</td>\n",
       "      <td>2</td>\n",
       "      <td>1</td>\n",
       "      <td>41</td>\n",
       "      <td>0.9</td>\n",
       "      <td>145</td>\n",
       "      <td>5</td>\n",
       "      <td>...</td>\n",
       "      <td>1263</td>\n",
       "      <td>1716</td>\n",
       "      <td>2603</td>\n",
       "      <td>11</td>\n",
       "      <td>2</td>\n",
       "      <td>9</td>\n",
       "      <td>1</td>\n",
       "      <td>1</td>\n",
       "      <td>0</td>\n",
       "      <td>2</td>\n",
       "    </tr>\n",
       "    <tr>\n",
       "      <th>3</th>\n",
       "      <td>615</td>\n",
       "      <td>1</td>\n",
       "      <td>2.5</td>\n",
       "      <td>0</td>\n",
       "      <td>0</td>\n",
       "      <td>0</td>\n",
       "      <td>10</td>\n",
       "      <td>0.8</td>\n",
       "      <td>131</td>\n",
       "      <td>6</td>\n",
       "      <td>...</td>\n",
       "      <td>1216</td>\n",
       "      <td>1786</td>\n",
       "      <td>2769</td>\n",
       "      <td>16</td>\n",
       "      <td>8</td>\n",
       "      <td>11</td>\n",
       "      <td>1</td>\n",
       "      <td>0</td>\n",
       "      <td>0</td>\n",
       "      <td>2</td>\n",
       "    </tr>\n",
       "    <tr>\n",
       "      <th>4</th>\n",
       "      <td>1821</td>\n",
       "      <td>1</td>\n",
       "      <td>1.2</td>\n",
       "      <td>0</td>\n",
       "      <td>13</td>\n",
       "      <td>1</td>\n",
       "      <td>44</td>\n",
       "      <td>0.6</td>\n",
       "      <td>141</td>\n",
       "      <td>2</td>\n",
       "      <td>...</td>\n",
       "      <td>1208</td>\n",
       "      <td>1212</td>\n",
       "      <td>1411</td>\n",
       "      <td>8</td>\n",
       "      <td>2</td>\n",
       "      <td>15</td>\n",
       "      <td>1</td>\n",
       "      <td>1</td>\n",
       "      <td>0</td>\n",
       "      <td>1</td>\n",
       "    </tr>\n",
       "  </tbody>\n",
       "</table>\n",
       "<p>5 rows × 21 columns</p>\n",
       "</div>"
      ],
      "text/plain": [
       "   battery_power  blue  clock_speed  dual_sim  fc  four_g  int_memory  m_dep  \\\n",
       "0            842     0          2.2         0   1       0           7    0.6   \n",
       "1           1021     1          0.5         1   0       1          53    0.7   \n",
       "2            563     1          0.5         1   2       1          41    0.9   \n",
       "3            615     1          2.5         0   0       0          10    0.8   \n",
       "4           1821     1          1.2         0  13       1          44    0.6   \n",
       "\n",
       "   mobile_wt  n_cores  ...  px_height  px_width   ram  sc_h  sc_w  talk_time  \\\n",
       "0        188        2  ...         20       756  2549     9     7         19   \n",
       "1        136        3  ...        905      1988  2631    17     3          7   \n",
       "2        145        5  ...       1263      1716  2603    11     2          9   \n",
       "3        131        6  ...       1216      1786  2769    16     8         11   \n",
       "4        141        2  ...       1208      1212  1411     8     2         15   \n",
       "\n",
       "   three_g  touch_screen  wifi  price_range  \n",
       "0        0             0     1            1  \n",
       "1        1             1     0            2  \n",
       "2        1             1     0            2  \n",
       "3        1             0     0            2  \n",
       "4        1             1     0            1  \n",
       "\n",
       "[5 rows x 21 columns]"
      ]
     },
     "execution_count": 6,
     "metadata": {},
     "output_type": "execute_result"
    }
   ],
   "source": [
    "# Import panda package and load the dataset\n",
    "import pandas as pd\n",
    "df = pd.read_csv(\"MobilePriceDataset.csv\")\n",
    "df.head()"
   ]
  },
  {
   "cell_type": "code",
   "execution_count": null,
   "id": "d999b670",
   "metadata": {
    "id": "d999b670"
   },
   "outputs": [],
   "source": [
    "#Changing pandas dataframe to numpy array\n",
    "X_data = df.iloc[:,:20].values\n",
    "y = df.iloc[:,20:21].values"
   ]
  },
  {
   "cell_type": "code",
   "execution_count": null,
   "id": "24de0124",
   "metadata": {
    "id": "24de0124",
    "outputId": "f66705cb-c38e-421b-9527-2c7c18e3fb9b"
   },
   "outputs": [
    {
     "data": {
      "text/html": [
       "<div>\n",
       "<style scoped>\n",
       "    .dataframe tbody tr th:only-of-type {\n",
       "        vertical-align: middle;\n",
       "    }\n",
       "\n",
       "    .dataframe tbody tr th {\n",
       "        vertical-align: top;\n",
       "    }\n",
       "\n",
       "    .dataframe thead th {\n",
       "        text-align: right;\n",
       "    }\n",
       "</style>\n",
       "<table border=\"1\" class=\"dataframe\">\n",
       "  <thead>\n",
       "    <tr style=\"text-align: right;\">\n",
       "      <th></th>\n",
       "      <th>battery_power</th>\n",
       "      <th>blue</th>\n",
       "      <th>clock_speed</th>\n",
       "      <th>dual_sim</th>\n",
       "      <th>fc</th>\n",
       "      <th>four_g</th>\n",
       "      <th>int_memory</th>\n",
       "      <th>m_dep</th>\n",
       "      <th>mobile_wt</th>\n",
       "      <th>n_cores</th>\n",
       "      <th>...</th>\n",
       "      <th>px_height</th>\n",
       "      <th>px_width</th>\n",
       "      <th>ram</th>\n",
       "      <th>sc_h</th>\n",
       "      <th>sc_w</th>\n",
       "      <th>talk_time</th>\n",
       "      <th>three_g</th>\n",
       "      <th>touch_screen</th>\n",
       "      <th>wifi</th>\n",
       "      <th>price_range</th>\n",
       "    </tr>\n",
       "  </thead>\n",
       "  <tbody>\n",
       "    <tr>\n",
       "      <th>0</th>\n",
       "      <td>842</td>\n",
       "      <td>0</td>\n",
       "      <td>2.2</td>\n",
       "      <td>0</td>\n",
       "      <td>1</td>\n",
       "      <td>0</td>\n",
       "      <td>7</td>\n",
       "      <td>0.6</td>\n",
       "      <td>188</td>\n",
       "      <td>2</td>\n",
       "      <td>...</td>\n",
       "      <td>20</td>\n",
       "      <td>756</td>\n",
       "      <td>2549</td>\n",
       "      <td>9</td>\n",
       "      <td>7</td>\n",
       "      <td>19</td>\n",
       "      <td>0</td>\n",
       "      <td>0</td>\n",
       "      <td>1</td>\n",
       "      <td>1</td>\n",
       "    </tr>\n",
       "    <tr>\n",
       "      <th>1</th>\n",
       "      <td>1021</td>\n",
       "      <td>1</td>\n",
       "      <td>0.5</td>\n",
       "      <td>1</td>\n",
       "      <td>0</td>\n",
       "      <td>1</td>\n",
       "      <td>53</td>\n",
       "      <td>0.7</td>\n",
       "      <td>136</td>\n",
       "      <td>3</td>\n",
       "      <td>...</td>\n",
       "      <td>905</td>\n",
       "      <td>1988</td>\n",
       "      <td>2631</td>\n",
       "      <td>17</td>\n",
       "      <td>3</td>\n",
       "      <td>7</td>\n",
       "      <td>1</td>\n",
       "      <td>1</td>\n",
       "      <td>0</td>\n",
       "      <td>2</td>\n",
       "    </tr>\n",
       "    <tr>\n",
       "      <th>2</th>\n",
       "      <td>563</td>\n",
       "      <td>1</td>\n",
       "      <td>0.5</td>\n",
       "      <td>1</td>\n",
       "      <td>2</td>\n",
       "      <td>1</td>\n",
       "      <td>41</td>\n",
       "      <td>0.9</td>\n",
       "      <td>145</td>\n",
       "      <td>5</td>\n",
       "      <td>...</td>\n",
       "      <td>1263</td>\n",
       "      <td>1716</td>\n",
       "      <td>2603</td>\n",
       "      <td>11</td>\n",
       "      <td>2</td>\n",
       "      <td>9</td>\n",
       "      <td>1</td>\n",
       "      <td>1</td>\n",
       "      <td>0</td>\n",
       "      <td>2</td>\n",
       "    </tr>\n",
       "    <tr>\n",
       "      <th>3</th>\n",
       "      <td>615</td>\n",
       "      <td>1</td>\n",
       "      <td>2.5</td>\n",
       "      <td>0</td>\n",
       "      <td>0</td>\n",
       "      <td>0</td>\n",
       "      <td>10</td>\n",
       "      <td>0.8</td>\n",
       "      <td>131</td>\n",
       "      <td>6</td>\n",
       "      <td>...</td>\n",
       "      <td>1216</td>\n",
       "      <td>1786</td>\n",
       "      <td>2769</td>\n",
       "      <td>16</td>\n",
       "      <td>8</td>\n",
       "      <td>11</td>\n",
       "      <td>1</td>\n",
       "      <td>0</td>\n",
       "      <td>0</td>\n",
       "      <td>2</td>\n",
       "    </tr>\n",
       "    <tr>\n",
       "      <th>4</th>\n",
       "      <td>1821</td>\n",
       "      <td>1</td>\n",
       "      <td>1.2</td>\n",
       "      <td>0</td>\n",
       "      <td>13</td>\n",
       "      <td>1</td>\n",
       "      <td>44</td>\n",
       "      <td>0.6</td>\n",
       "      <td>141</td>\n",
       "      <td>2</td>\n",
       "      <td>...</td>\n",
       "      <td>1208</td>\n",
       "      <td>1212</td>\n",
       "      <td>1411</td>\n",
       "      <td>8</td>\n",
       "      <td>2</td>\n",
       "      <td>15</td>\n",
       "      <td>1</td>\n",
       "      <td>1</td>\n",
       "      <td>0</td>\n",
       "      <td>1</td>\n",
       "    </tr>\n",
       "  </tbody>\n",
       "</table>\n",
       "<p>5 rows × 21 columns</p>\n",
       "</div>"
      ],
      "text/plain": [
       "   battery_power  blue  clock_speed  dual_sim  fc  four_g  int_memory  m_dep  \\\n",
       "0            842     0          2.2         0   1       0           7    0.6   \n",
       "1           1021     1          0.5         1   0       1          53    0.7   \n",
       "2            563     1          0.5         1   2       1          41    0.9   \n",
       "3            615     1          2.5         0   0       0          10    0.8   \n",
       "4           1821     1          1.2         0  13       1          44    0.6   \n",
       "\n",
       "   mobile_wt  n_cores  ...  px_height  px_width   ram  sc_h  sc_w  talk_time  \\\n",
       "0        188        2  ...         20       756  2549     9     7         19   \n",
       "1        136        3  ...        905      1988  2631    17     3          7   \n",
       "2        145        5  ...       1263      1716  2603    11     2          9   \n",
       "3        131        6  ...       1216      1786  2769    16     8         11   \n",
       "4        141        2  ...       1208      1212  1411     8     2         15   \n",
       "\n",
       "   three_g  touch_screen  wifi  price_range  \n",
       "0        0             0     1            1  \n",
       "1        1             1     0            2  \n",
       "2        1             1     0            2  \n",
       "3        1             0     0            2  \n",
       "4        1             1     0            1  \n",
       "\n",
       "[5 rows x 21 columns]"
      ]
     },
     "execution_count": 8,
     "metadata": {},
     "output_type": "execute_result"
    }
   ],
   "source": [
    "df.head()"
   ]
  },
  {
   "cell_type": "code",
   "execution_count": null,
   "id": "9bf7eb41",
   "metadata": {
    "id": "9bf7eb41"
   },
   "outputs": [],
   "source": [
    "# Split the dataset into train (80%) and test (20%)\n",
    "from sklearn.model_selection import train_test_split\n",
    "X_train, X_test, Y_train , Y_test = train_test_split(X_data,y,test_size=0.2)"
   ]
  },
  {
   "cell_type": "code",
   "execution_count": null,
   "id": "9dcd3bb8",
   "metadata": {
    "id": "9dcd3bb8",
    "outputId": "bbe3727d-aae4-464d-8e4b-7bc7bced0dbf"
   },
   "outputs": [
    {
     "data": {
      "text/plain": [
       "1600"
      ]
     },
     "execution_count": 10,
     "metadata": {},
     "output_type": "execute_result"
    }
   ],
   "source": [
    "len(X_train)"
   ]
  },
  {
   "cell_type": "code",
   "execution_count": null,
   "id": "fea81f7c",
   "metadata": {
    "id": "fea81f7c",
    "outputId": "9b90c0fa-5085-4225-a879-3c57d3f288dd"
   },
   "outputs": [
    {
     "data": {
      "text/plain": [
       "400"
      ]
     },
     "execution_count": 11,
     "metadata": {},
     "output_type": "execute_result"
    }
   ],
   "source": [
    "len(X_test)"
   ]
  },
  {
   "cell_type": "code",
   "execution_count": null,
   "id": "ecc7419d",
   "metadata": {
    "id": "ecc7419d",
    "outputId": "aa8f210f-7bc1-4512-d4c4-a2cee6c2d47f"
   },
   "outputs": [
    {
     "data": {
      "text/plain": [
       "(20,)"
      ]
     },
     "execution_count": 12,
     "metadata": {},
     "output_type": "execute_result"
    }
   ],
   "source": [
    "X_train[0].shape"
   ]
  },
  {
   "cell_type": "code",
   "execution_count": null,
   "id": "42e027d0",
   "metadata": {
    "id": "42e027d0",
    "outputId": "0cd2df4a-71c4-447e-c4a3-42c02dc9a16a",
    "scrolled": true
   },
   "outputs": [
    {
     "data": {
      "text/plain": [
       "array([1.002e+03, 0.000e+00, 2.700e+00, 1.000e+00, 1.600e+01, 1.000e+00,\n",
       "       1.100e+01, 4.000e-01, 1.850e+02, 6.000e+00, 1.800e+01, 2.850e+02,\n",
       "       5.120e+02, 9.610e+02, 1.000e+01, 7.000e+00, 1.900e+01, 1.000e+00,\n",
       "       0.000e+00, 1.000e+00])"
      ]
     },
     "execution_count": 13,
     "metadata": {},
     "output_type": "execute_result"
    }
   ],
   "source": [
    "X_train[0]"
   ]
  },
  {
   "cell_type": "code",
   "execution_count": null,
   "id": "0420e5b3",
   "metadata": {
    "id": "0420e5b3",
    "outputId": "cb9cb750-018e-4106-af1c-2a390a120c15"
   },
   "outputs": [
    {
     "data": {
      "text/plain": [
       "Text(0.5, 1.0, 'Correlation')"
      ]
     },
     "execution_count": 14,
     "metadata": {},
     "output_type": "execute_result"
    },
    {
     "data": {
      "image/png": "[encoded data removed]",
      "text/plain": [
       "<Figure size 1080x864 with 2 Axes>"
      ]
     },
     "metadata": {
      "needs_background": "light"
     },
     "output_type": "display_data"
    }
   ],
   "source": [
    "#correlation value between features\n",
    "import seaborn as sns\n",
    "import matplotlib.pyplot as plt\n",
    "corr = df.corr()\n",
    "fig = plt.figure(figsize=(15,12))\n",
    "r = sns.heatmap(corr, cmap='Oranges')\n",
    "r.set_title(\"Correlation\")"
   ]
  },
  {
   "cell_type": "code",
   "execution_count": null,
   "id": "d4aee28c",
   "metadata": {
    "id": "d4aee28c"
   },
   "outputs": [],
   "source": [
    "#Normalizing the data\n",
    "from sklearn.preprocessing import StandardScaler\n",
    "sc = StandardScaler()\n",
    "X_train = sc.fit_transform(X_train)\n",
    "X_test = sc.fit_transform(X_test)"
   ]
  },
  {
   "cell_type": "code",
   "execution_count": null,
   "id": "f0530b86",
   "metadata": {
    "id": "f0530b86",
    "outputId": "e7856b95-acf0-4ea1-e04e-6145f7036562"
   },
   "outputs": [
    {
     "data": {
      "text/plain": [
       "array([-0.5415582 , -0.98757716,  1.46556903,  0.97652545,  2.68104426,\n",
       "        0.95596841, -1.14045501, -0.3647914 ,  1.25290454,  0.64757384,\n",
       "        1.31951275, -0.82556611, -1.71134256, -1.08270926, -0.54237153,\n",
       "        0.27864931,  1.44931526,  0.55328334, -1.03563452,  0.98634324])"
      ]
     },
     "execution_count": 16,
     "metadata": {},
     "output_type": "execute_result"
    }
   ],
   "source": [
    "X_train[0]"
   ]
  },
  {
   "cell_type": "code",
   "execution_count": null,
   "id": "7f8e48d0",
   "metadata": {
    "id": "7f8e48d0"
   },
   "outputs": [],
   "source": [
    "# Defining the model and adding the layers\n",
    "model = keras.Sequential()\n",
    "model.add(keras.layers.Dense(16, input_shape=(20,), activation='sigmoid'))\n",
    "model.add(keras.layers.Dense(12, activation='sigmoid'))\n",
    "model.add(keras.layers.Dense(4, activation='softmax'))"
   ]
  },
  {
   "cell_type": "code",
   "execution_count": null,
   "id": "bdc4b6f7",
   "metadata": {
    "id": "bdc4b6f7"
   },
   "outputs": [],
   "source": [
    "#Compiling the model\n",
    "model.compile(optimizer='adam',\n",
    "              loss='sparse_categorical_crossentropy',\n",
    "              metrics=['accuracy'])"
   ]
  },
  {
   "cell_type": "code",
   "execution_count": null,
   "id": "8b01ca21",
   "metadata": {
    "id": "8b01ca21",
    "outputId": "40035054-f338-4be7-99e3-4965f0523672"
   },
   "outputs": [
    {
     "name": "stdout",
     "output_type": "stream",
     "text": [
      "Epoch 1/111\n",
      "50/50 [==============================] - 1s 2ms/step - loss: 1.3961 - accuracy: 0.2781\n",
      "Epoch 2/111\n",
      "50/50 [==============================] - 0s 2ms/step - loss: 1.3635 - accuracy: 0.3544\n",
      "Epoch 3/111\n",
      "50/50 [==============================] - 0s 2ms/step - loss: 1.3431 - accuracy: 0.4250\n",
      "Epoch 4/111\n",
      "50/50 [==============================] - 0s 2ms/step - loss: 1.3161 - accuracy: 0.4794\n",
      "Epoch 5/111\n",
      "50/50 [==============================] - 0s 2ms/step - loss: 1.2828 - accuracy: 0.5288\n",
      "Epoch 6/111\n",
      "50/50 [==============================] - 0s 2ms/step - loss: 1.2404 - accuracy: 0.5831\n",
      "Epoch 7/111\n",
      "50/50 [==============================] - 0s 2ms/step - loss: 1.1873 - accuracy: 0.6175\n",
      "Epoch 8/111\n",
      "50/50 [==============================] - 0s 2ms/step - loss: 1.1263 - accuracy: 0.6406\n",
      "Epoch 9/111\n",
      "50/50 [==============================] - 0s 2ms/step - loss: 1.0580 - accuracy: 0.7156\n",
      "Epoch 10/111\n",
      "50/50 [==============================] - 0s 2ms/step - loss: 0.9883 - accuracy: 0.7406\n",
      "Epoch 11/111\n",
      "50/50 [==============================] - 0s 2ms/step - loss: 0.9218 - accuracy: 0.7588\n",
      "Epoch 12/111\n",
      "50/50 [==============================] - 0s 2ms/step - loss: 0.8615 - accuracy: 0.8106\n",
      "Epoch 13/111\n",
      "50/50 [==============================] - 0s 2ms/step - loss: 0.8085 - accuracy: 0.8225\n",
      "Epoch 14/111\n",
      "50/50 [==============================] - 0s 2ms/step - loss: 0.7624 - accuracy: 0.8587\n",
      "Epoch 15/111\n",
      "50/50 [==============================] - 0s 2ms/step - loss: 0.7216 - accuracy: 0.8606\n",
      "Epoch 16/111\n",
      "50/50 [==============================] - 0s 2ms/step - loss: 0.6856 - accuracy: 0.8763\n",
      "Epoch 17/111\n",
      "50/50 [==============================] - 0s 2ms/step - loss: 0.6532 - accuracy: 0.8813\n",
      "Epoch 18/111\n",
      "50/50 [==============================] - 0s 2ms/step - loss: 0.6240 - accuracy: 0.9050\n",
      "Epoch 19/111\n",
      "50/50 [==============================] - 0s 2ms/step - loss: 0.5971 - accuracy: 0.9069\n",
      "Epoch 20/111\n",
      "50/50 [==============================] - 0s 2ms/step - loss: 0.5722 - accuracy: 0.9112\n",
      "Epoch 21/111\n",
      "50/50 [==============================] - 0s 1ms/step - loss: 0.5485 - accuracy: 0.9212\n",
      "Epoch 22/111\n",
      "50/50 [==============================] - 0s 2ms/step - loss: 0.5273 - accuracy: 0.9181\n",
      "Epoch 23/111\n",
      "50/50 [==============================] - 0s 2ms/step - loss: 0.5066 - accuracy: 0.9225\n",
      "Epoch 24/111\n",
      "50/50 [==============================] - 0s 2ms/step - loss: 0.4870 - accuracy: 0.9300\n",
      "Epoch 25/111\n",
      "50/50 [==============================] - 0s 2ms/step - loss: 0.4693 - accuracy: 0.9319\n",
      "Epoch 26/111\n",
      "50/50 [==============================] - 0s 2ms/step - loss: 0.4516 - accuracy: 0.9344\n",
      "Epoch 27/111\n",
      "50/50 [==============================] - 0s 1ms/step - loss: 0.4357 - accuracy: 0.9356\n",
      "Epoch 28/111\n",
      "50/50 [==============================] - 0s 2ms/step - loss: 0.4204 - accuracy: 0.9406\n",
      "Epoch 29/111\n",
      "50/50 [==============================] - 0s 2ms/step - loss: 0.4063 - accuracy: 0.9444\n",
      "Epoch 30/111\n",
      "50/50 [==============================] - 0s 2ms/step - loss: 0.3925 - accuracy: 0.9450\n",
      "Epoch 31/111\n",
      "50/50 [==============================] - 0s 2ms/step - loss: 0.3792 - accuracy: 0.9469\n",
      "Epoch 32/111\n",
      "50/50 [==============================] - 0s 2ms/step - loss: 0.3667 - accuracy: 0.9463\n",
      "Epoch 33/111\n",
      "50/50 [==============================] - 0s 1ms/step - loss: 0.3548 - accuracy: 0.9538\n",
      "Epoch 34/111\n",
      "50/50 [==============================] - 0s 2ms/step - loss: 0.3432 - accuracy: 0.9531\n",
      "Epoch 35/111\n",
      "50/50 [==============================] - 0s 2ms/step - loss: 0.3317 - accuracy: 0.9544\n",
      "Epoch 36/111\n",
      "50/50 [==============================] - 0s 2ms/step - loss: 0.3213 - accuracy: 0.9563\n",
      "Epoch 37/111\n",
      "50/50 [==============================] - 0s 2ms/step - loss: 0.3119 - accuracy: 0.9538\n",
      "Epoch 38/111\n",
      "50/50 [==============================] - 0s 2ms/step - loss: 0.3011 - accuracy: 0.9581\n",
      "Epoch 39/111\n",
      "50/50 [==============================] - 0s 2ms/step - loss: 0.2918 - accuracy: 0.9606\n",
      "Epoch 40/111\n",
      "50/50 [==============================] - 0s 2ms/step - loss: 0.2818 - accuracy: 0.9606\n",
      "Epoch 41/111\n",
      "50/50 [==============================] - 0s 2ms/step - loss: 0.2727 - accuracy: 0.9594\n",
      "Epoch 42/111\n",
      "50/50 [==============================] - 0s 2ms/step - loss: 0.2639 - accuracy: 0.9663\n",
      "Epoch 43/111\n",
      "50/50 [==============================] - 0s 2ms/step - loss: 0.2555 - accuracy: 0.9644\n",
      "Epoch 44/111\n",
      "50/50 [==============================] - 0s 2ms/step - loss: 0.2481 - accuracy: 0.9663\n",
      "Epoch 45/111\n",
      "50/50 [==============================] - 0s 2ms/step - loss: 0.2399 - accuracy: 0.9675\n",
      "Epoch 46/111\n",
      "50/50 [==============================] - 0s 2ms/step - loss: 0.2323 - accuracy: 0.9700\n",
      "Epoch 47/111\n",
      "50/50 [==============================] - 0s 2ms/step - loss: 0.2247 - accuracy: 0.9675\n",
      "Epoch 48/111\n",
      "50/50 [==============================] - 0s 2ms/step - loss: 0.2179 - accuracy: 0.9706\n",
      "Epoch 49/111\n",
      "50/50 [==============================] - 0s 2ms/step - loss: 0.2112 - accuracy: 0.9681\n",
      "Epoch 50/111\n",
      "50/50 [==============================] - 0s 2ms/step - loss: 0.2047 - accuracy: 0.9669\n",
      "Epoch 51/111\n",
      "50/50 [==============================] - 0s 2ms/step - loss: 0.1988 - accuracy: 0.9750\n",
      "Epoch 52/111\n",
      "50/50 [==============================] - 0s 2ms/step - loss: 0.1933 - accuracy: 0.9737\n",
      "Epoch 53/111\n",
      "50/50 [==============================] - 0s 2ms/step - loss: 0.1878 - accuracy: 0.9719\n",
      "Epoch 54/111\n",
      "50/50 [==============================] - 0s 2ms/step - loss: 0.1825 - accuracy: 0.9731\n",
      "Epoch 55/111\n",
      "50/50 [==============================] - 0s 2ms/step - loss: 0.1772 - accuracy: 0.9762\n",
      "Epoch 56/111\n",
      "50/50 [==============================] - 0s 2ms/step - loss: 0.1719 - accuracy: 0.9794\n",
      "Epoch 57/111\n",
      "50/50 [==============================] - 0s 2ms/step - loss: 0.1672 - accuracy: 0.9756\n",
      "Epoch 58/111\n",
      "50/50 [==============================] - 0s 2ms/step - loss: 0.1633 - accuracy: 0.9750\n",
      "Epoch 59/111\n",
      "50/50 [==============================] - 0s 2ms/step - loss: 0.1587 - accuracy: 0.9781\n",
      "Epoch 60/111\n",
      "50/50 [==============================] - 0s 1ms/step - loss: 0.1548 - accuracy: 0.9781\n",
      "Epoch 61/111\n",
      "50/50 [==============================] - 0s 2ms/step - loss: 0.1509 - accuracy: 0.9787\n",
      "Epoch 62/111\n",
      "50/50 [==============================] - 0s 2ms/step - loss: 0.1475 - accuracy: 0.9775\n",
      "Epoch 63/111\n",
      "50/50 [==============================] - 0s 1ms/step - loss: 0.1437 - accuracy: 0.9787\n",
      "Epoch 64/111\n",
      "50/50 [==============================] - 0s 2ms/step - loss: 0.1398 - accuracy: 0.9831\n",
      "Epoch 65/111\n",
      "50/50 [==============================] - 0s 2ms/step - loss: 0.1371 - accuracy: 0.9831\n",
      "Epoch 66/111\n",
      "50/50 [==============================] - 0s 1ms/step - loss: 0.1338 - accuracy: 0.9819\n",
      "Epoch 67/111\n",
      "50/50 [==============================] - 0s 2ms/step - loss: 0.1305 - accuracy: 0.9819\n",
      "Epoch 68/111\n",
      "50/50 [==============================] - 0s 2ms/step - loss: 0.1280 - accuracy: 0.9850\n",
      "Epoch 69/111\n",
      "50/50 [==============================] - 0s 2ms/step - loss: 0.1255 - accuracy: 0.9819\n",
      "Epoch 70/111\n",
      "50/50 [==============================] - 0s 2ms/step - loss: 0.1225 - accuracy: 0.9831\n",
      "Epoch 71/111\n",
      "50/50 [==============================] - 0s 2ms/step - loss: 0.1202 - accuracy: 0.9850\n",
      "Epoch 72/111\n",
      "50/50 [==============================] - 0s 1ms/step - loss: 0.1180 - accuracy: 0.9825\n",
      "Epoch 73/111\n",
      "50/50 [==============================] - 0s 2ms/step - loss: 0.1150 - accuracy: 0.9850\n",
      "Epoch 74/111\n",
      "50/50 [==============================] - 0s 2ms/step - loss: 0.1128 - accuracy: 0.9844\n",
      "Epoch 75/111\n",
      "50/50 [==============================] - 0s 2ms/step - loss: 0.1107 - accuracy: 0.9844\n",
      "Epoch 76/111\n",
      "50/50 [==============================] - 0s 2ms/step - loss: 0.1086 - accuracy: 0.9837\n",
      "Epoch 77/111\n",
      "50/50 [==============================] - 0s 2ms/step - loss: 0.1070 - accuracy: 0.9844\n",
      "Epoch 78/111\n",
      "50/50 [==============================] - 0s 2ms/step - loss: 0.1047 - accuracy: 0.9825\n",
      "Epoch 79/111\n",
      "50/50 [==============================] - 0s 2ms/step - loss: 0.1025 - accuracy: 0.9862\n",
      "Epoch 80/111\n",
      "50/50 [==============================] - 0s 2ms/step - loss: 0.1005 - accuracy: 0.9862\n",
      "Epoch 81/111\n",
      "50/50 [==============================] - 0s 2ms/step - loss: 0.0988 - accuracy: 0.9881\n",
      "Epoch 82/111\n",
      "50/50 [==============================] - 0s 2ms/step - loss: 0.0976 - accuracy: 0.9862\n",
      "Epoch 83/111\n",
      "50/50 [==============================] - 0s 2ms/step - loss: 0.0959 - accuracy: 0.9862\n",
      "Epoch 84/111\n",
      "50/50 [==============================] - 0s 2ms/step - loss: 0.0942 - accuracy: 0.9881\n",
      "Epoch 85/111\n",
      "50/50 [==============================] - 0s 2ms/step - loss: 0.0928 - accuracy: 0.9856\n",
      "Epoch 86/111\n",
      "50/50 [==============================] - 0s 1ms/step - loss: 0.0911 - accuracy: 0.9850\n",
      "Epoch 87/111\n",
      "50/50 [==============================] - 0s 1ms/step - loss: 0.0896 - accuracy: 0.9881\n",
      "Epoch 88/111\n",
      "50/50 [==============================] - 0s 2ms/step - loss: 0.0879 - accuracy: 0.9881\n",
      "Epoch 89/111\n",
      "50/50 [==============================] - 0s 2ms/step - loss: 0.0872 - accuracy: 0.9856\n",
      "Epoch 90/111\n",
      "50/50 [==============================] - 0s 2ms/step - loss: 0.0852 - accuracy: 0.9862\n",
      "Epoch 91/111\n",
      "50/50 [==============================] - 0s 2ms/step - loss: 0.0844 - accuracy: 0.9869\n",
      "Epoch 92/111\n",
      "50/50 [==============================] - 0s 1ms/step - loss: 0.0827 - accuracy: 0.9869\n",
      "Epoch 93/111\n",
      "50/50 [==============================] - 0s 2ms/step - loss: 0.0817 - accuracy: 0.9869\n",
      "Epoch 94/111\n",
      "50/50 [==============================] - 0s 2ms/step - loss: 0.0804 - accuracy: 0.9869\n",
      "Epoch 95/111\n",
      "50/50 [==============================] - 0s 1ms/step - loss: 0.0790 - accuracy: 0.9862\n",
      "Epoch 96/111\n",
      "50/50 [==============================] - 0s 2ms/step - loss: 0.0785 - accuracy: 0.9862\n",
      "Epoch 97/111\n",
      "50/50 [==============================] - 0s 1ms/step - loss: 0.0769 - accuracy: 0.9875\n",
      "Epoch 98/111\n",
      "50/50 [==============================] - 0s 2ms/step - loss: 0.0755 - accuracy: 0.9875\n",
      "Epoch 99/111\n",
      "50/50 [==============================] - 0s 2ms/step - loss: 0.0743 - accuracy: 0.9881\n",
      "Epoch 100/111\n",
      "50/50 [==============================] - 0s 2ms/step - loss: 0.0734 - accuracy: 0.9881\n",
      "Epoch 101/111\n",
      "50/50 [==============================] - 0s 2ms/step - loss: 0.0727 - accuracy: 0.9881\n",
      "Epoch 102/111\n",
      "50/50 [==============================] - 0s 2ms/step - loss: 0.0716 - accuracy: 0.9887\n",
      "Epoch 103/111\n",
      "50/50 [==============================] - 0s 2ms/step - loss: 0.0705 - accuracy: 0.9869\n",
      "Epoch 104/111\n",
      "50/50 [==============================] - 0s 1ms/step - loss: 0.0699 - accuracy: 0.9894\n",
      "Epoch 105/111\n",
      "50/50 [==============================] - 0s 2ms/step - loss: 0.0685 - accuracy: 0.9869\n",
      "Epoch 106/111\n",
      "50/50 [==============================] - 0s 2ms/step - loss: 0.0680 - accuracy: 0.9881\n",
      "Epoch 107/111\n",
      "50/50 [==============================] - 0s 2ms/step - loss: 0.0672 - accuracy: 0.9900\n",
      "Epoch 108/111\n",
      "50/50 [==============================] - 0s 2ms/step - loss: 0.0660 - accuracy: 0.9906\n",
      "Epoch 109/111\n",
      "50/50 [==============================] - 0s 2ms/step - loss: 0.0653 - accuracy: 0.9900\n",
      "Epoch 110/111\n",
      "50/50 [==============================] - 0s 2ms/step - loss: 0.0644 - accuracy: 0.9887\n",
      "Epoch 111/111\n",
      "50/50 [==============================] - 0s 1ms/step - loss: 0.0637 - accuracy: 0.9894\n"
     ]
    },
    {
     "data": {
      "text/plain": [
       "<keras.callbacks.History at 0x260326af4c0>"
      ]
     },
     "execution_count": 22,
     "metadata": {},
     "output_type": "execute_result"
    }
   ],
   "source": [
    "# Train the model\n",
    "model.fit(X_train, Y_train, epochs=111)"
   ]
  },
  {
   "cell_type": "code",
   "execution_count": null,
   "id": "5dc96c03",
   "metadata": {
    "id": "5dc96c03",
    "outputId": "e7f3bc5c-b66f-4125-ee61-b779084a175a",
    "scrolled": true
   },
   "outputs": [
    {
     "name": "stdout",
     "output_type": "stream",
     "text": [
      "13/13 [==============================] - 0s 2ms/step - loss: 0.1314 - accuracy: 0.9350\n"
     ]
    },
    {
     "data": {
      "text/plain": [
       "[0.13142748177051544, 0.9350000023841858]"
      ]
     },
     "execution_count": 24,
     "metadata": {},
     "output_type": "execute_result"
    }
   ],
   "source": [
    "model.evaluate(X_test, Y_test)"
   ]
  },
  {
   "cell_type": "code",
   "execution_count": null,
   "id": "20edac02",
   "metadata": {
    "id": "20edac02"
   },
   "outputs": [],
   "source": []
  }
 ],
 "metadata": {
  "colab": {
   "provenance": []
  },
  "kernelspec": {
   "display_name": "Python 3 (ipykernel)",
   "language": "python",
   "name": "python3"
  },
  "language_info": {
   "codemirror_mode": {
    "name": "ipython",
    "version": 3
   },
   "file_extension": ".py",
   "mimetype": "text/x-python",
   "name": "python",
   "nbconvert_exporter": "python",
   "pygments_lexer": "ipython3",
   "version": "3.9.12"
  }
 },
 "nbformat": 4,
 "nbformat_minor": 5
}
